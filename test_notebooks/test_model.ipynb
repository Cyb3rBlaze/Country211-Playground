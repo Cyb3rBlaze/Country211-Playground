{
 "cells": [
  {
   "cell_type": "code",
   "execution_count": 1,
   "metadata": {},
   "outputs": [],
   "source": [
    "import torch\n",
    "import torch.nn as nn\n",
    "\n",
    "from ignite.engine import *\n",
    "from ignite.metrics import *\n",
    "\n",
    "from torchvision.datasets import Country211\n",
    "from torchvision import transforms\n",
    "\n",
    "from torchvision.models.feature_extraction import create_feature_extractor\n",
    "from torchvision.models import resnet50, ResNet50_Weights\n",
    "\n",
    "from torchvision.ops import FeaturePyramidNetwork\n",
    "\n",
    "from tqdm import tqdm\n",
    "\n",
    "import math\n",
    "\n",
    "import numpy as np"
   ]
  },
  {
   "cell_type": "code",
   "execution_count": 2,
   "metadata": {},
   "outputs": [],
   "source": [
    "transform = transforms.Compose([\n",
    "            # transforms.RandomHorizontalFlip(),\n",
    "            # transforms.ColorJitter(0.4, 0.4, 0.4),\n",
    "            transforms.Resize((448,448)), # resize the images to 224x224 pixels\n",
    "            # transforms.RandomResizedCrop((224, 224), scale=(0.5, 1.0)),\n",
    "            # transforms.GaussianBlur((5, 5), sigma=(0.1, 0.3)),\n",
    "            transforms.ToTensor(), # convert the images to a PyTorch tensor\n",
    "            transforms.Normalize([0.485, 0.456, 0.406], [0.229, 0.224, 0.225]) # normalize the images color channels\n",
    "        ])\n",
    "\n",
    "test_set = Country211(\"../\", \"test\", transform=transform)\n",
    "test_loader = torch.utils.data.DataLoader(test_set, batch_size=32)"
   ]
  },
  {
   "cell_type": "code",
   "execution_count": 3,
   "metadata": {},
   "outputs": [
    {
     "name": "stdout",
     "output_type": "stream",
     "text": [
      "['conv1', 'layer1.0.conv1', 'layer1.0.conv2', 'layer1.0.conv3', 'layer1.0.downsample.0', 'layer1.1.conv1', 'layer1.1.conv2', 'layer1.1.conv3', 'layer1.2.conv1', 'layer1.2.conv2', 'layer1.2.conv3', 'layer2.0.conv1', 'layer2.0.conv2', 'layer2.0.conv3', 'layer2.0.downsample.0', 'layer2.1.conv1', 'layer2.1.conv2', 'layer2.1.conv3', 'layer2.2.conv1', 'layer2.2.conv2', 'layer2.2.conv3', 'layer2.3.conv1', 'layer2.3.conv2', 'layer2.3.conv3', 'layer3.0.conv1', 'layer3.0.conv2', 'layer3.0.conv3', 'layer3.0.downsample.0', 'layer3.1.conv1', 'layer3.1.conv2', 'layer3.1.conv3', 'layer3.2.conv1', 'layer3.2.conv2', 'layer3.2.conv3', 'layer3.3.conv1', 'layer3.3.conv2', 'layer3.3.conv3', 'layer3.4.conv1', 'layer3.4.conv2', 'layer3.4.conv3', 'layer3.5.conv1', 'layer3.5.conv2', 'layer3.5.conv3', 'layer4.0.conv1', 'layer4.0.conv2', 'layer4.0.conv3', 'layer4.0.downsample.0', 'layer4.1.conv1', 'layer4.1.conv2', 'layer4.1.conv3', 'layer4.2.conv1', 'layer4.2.conv2', 'layer4.2.conv3']\n"
     ]
    }
   ],
   "source": [
    "# pretrained backbone\n",
    "\n",
    "# loading pretrained model\n",
    "device = torch.device(\"cuda\")\n",
    "\n",
    "model = resnet50(weights=ResNet50_Weights.DEFAULT)\n",
    "\n",
    "layer_names = []\n",
    "\n",
    "for name, layer in model.named_modules():\n",
    "    if isinstance(layer, nn.Conv2d):\n",
    "        layer_names += [name]\n",
    "\n",
    "print(layer_names)\n",
    "\n",
    "feature_extractor = create_feature_extractor(model, \n",
    "        return_nodes=[\"avgpool\"]).to(device)\n",
    "\n",
    "# feature_extractor = create_feature_extractor(model, \n",
    "#         return_nodes=[\"layer1.0.conv3\", \"layer2.0.conv3\", \"layer3.0.conv3\", \"layer4.0.conv3\"]).to(device)"
   ]
  },
  {
   "cell_type": "code",
   "execution_count": 4,
   "metadata": {},
   "outputs": [],
   "source": [
    "class ClassificationHead(torch.nn.Module):\n",
    "    def __init__(self, input_size, output_size):\n",
    "        super(ClassificationHead, self).__init__()\n",
    "\n",
    "        self.flatten = nn.Flatten()\n",
    "\n",
    "        self.linear = nn.Linear(input_size, output_size)\n",
    "\n",
    "        self.softmax = nn.Softmax()\n",
    "\n",
    "    def forward(self, x):\n",
    "        x = self.flatten(x)\n",
    "\n",
    "        x = self.linear(x)\n",
    "\n",
    "        return self.softmax(x)\n",
    "\n",
    "# pulled from Dr. Karpathy's minGPT implementation\n",
    "# class GELU(nn.Module):\n",
    "#     \"\"\"\n",
    "#     Implementation of the GELU activation function currently in Google BERT repo (identical to OpenAI GPT).\n",
    "#     Reference: Gaussian Error Linear Units (GELU) paper: https://arxiv.org/abs/1606.08415\n",
    "#     \"\"\"\n",
    "#     def forward(self, x):\n",
    "#         return 0.5 * x * (1.0 + torch.tanh(math.sqrt(2.0 / math.pi) * (x + 0.044715 * torch.pow(x, 3.0))))\n",
    "\n",
    "# class ClassificationHead(nn.Module):\n",
    "#     def __init__(self, output_size):\n",
    "#         super(ClassificationHead, self).__init__()\n",
    "#         # pooling to make sure dimensionality is the same for features across multiple layers\n",
    "#         self.pool = nn.AdaptiveAvgPool2d(14)\n",
    "#         self.upsamplex2 = nn.Upsample(scale_factor=2)\n",
    "\n",
    "#         self.bnorm1 = nn.BatchNorm2d(256)\n",
    "#         self.bnorm2 = nn.BatchNorm2d(256)\n",
    "#         self.bnorm3 = nn.BatchNorm2d(256)\n",
    "#         self.bnorm4 = nn.BatchNorm2d(256)\n",
    "\n",
    "#         # final layers\n",
    "#         self.final_conv1 = nn.Conv2d(1024, 1024, (3, 3), bias=False, groups=4)\n",
    "#         self.bnorm5 = nn.BatchNorm2d(1024)\n",
    "\n",
    "#         self.final_conv2 = nn.Conv2d(1024, 1024, (3, 3), bias=False, groups=4)\n",
    "#         self.bnorm6 = nn.BatchNorm2d(1024)\n",
    "\n",
    "#         self.final_conv3 = nn.Conv2d(1024, 1024, (3, 3), bias=False, groups=4)\n",
    "#         self.bnorm7 = nn.BatchNorm2d(1024)\n",
    "\n",
    "#         # flatten layers creates large number of features\n",
    "#         # self.flatten = nn.Flatten()\n",
    "\n",
    "#         self.aggregate = nn.AdaptiveAvgPool2d((1, 1)) # global feature aggregation for regression output connection\n",
    "\n",
    "#         self.dense1 = nn.Linear(1024, output_size)\n",
    "\n",
    "#         self.gelu = GELU()\n",
    "#         self.softmax = nn.Softmax()\n",
    "\n",
    "#     def forward(self, x):\n",
    "#         out1 = self.pool(self.bnorm1(x[\"layer1.0.conv3\"]))\n",
    "#         out2 = self.pool(self.bnorm2(x[\"layer2.0.conv3\"]))\n",
    "#         out3 = self.bnorm3(x[\"layer3.0.conv3\"])\n",
    "#         out4 = self.upsamplex2(self.bnorm4(x[\"layer4.0.conv3\"]))\n",
    "\n",
    "#         concat_output = torch.cat((out1, out2, out3, out4), 1)\n",
    "\n",
    "#         final = self.gelu(self.bnorm5(self.final_conv1(concat_output)))\n",
    "#         final = self.gelu(self.bnorm6(self.final_conv2(final)))\n",
    "#         final = self.gelu(self.bnorm7(self.final_conv3(final)))\n",
    "\n",
    "#         final = self.aggregate(final).squeeze(2).squeeze(2)\n",
    "\n",
    "#         # final linear output\n",
    "#         final = self.softmax(self.dense1(final))\n",
    "\n",
    "#         return final"
   ]
  },
  {
   "cell_type": "code",
   "execution_count": 5,
   "metadata": {},
   "outputs": [],
   "source": [
    "device = torch.device(\"cuda\")\n",
    "\n",
    "#feature_extractor = torch.load(\"../models/feature_extractor_run_3_resnet_full_l2_0_epochs_100_lr_1e-4\").to(device)\n",
    "#fpn = torch.load(\"../models/fpn_resnet_fpn_l2_0_epochs_100_lr_1e-4_conv_0_group_4\").to(device)\n",
    "classification_head = torch.load(\"../models/resnet_simple_l2_0_epochs_100_lr_1e-3\").to(device)"
   ]
  },
  {
   "cell_type": "code",
   "execution_count": 6,
   "metadata": {},
   "outputs": [],
   "source": [
    "# pulled from https://pytorch.org/ignite/generated/ignite.metrics.TopKCategoricalAccuracy.html\n",
    "def process_function(engine, batch):\n",
    "    y_pred, y = batch\n",
    "    return y_pred, y\n",
    "\n",
    "def one_hot_to_binary_output_transform(output):\n",
    "    y_pred, y = output\n",
    "    y = torch.argmax(y, dim=1)  # one-hot vector to label index vector\n",
    "    return y_pred, y\n",
    "\n",
    "engine = Engine(process_function)\n",
    "accuracy = TopKCategoricalAccuracy(k=1, output_transform=one_hot_to_binary_output_transform, device=device)\n",
    "accuracy.attach(engine, 'top_1_accuracy')"
   ]
  },
  {
   "cell_type": "code",
   "execution_count": 7,
   "metadata": {},
   "outputs": [
    {
     "name": "stderr",
     "output_type": "stream",
     "text": [
      "  0%|          | 0/660 [00:00<?, ?it/s]/tmp/ipykernel_143435/1370781904.py:16: UserWarning: Implicit dimension choice for softmax has been deprecated. Change the call to include dim=X as an argument.\n",
      "  return self.softmax(x)\n",
      "100%|██████████| 660/660 [07:47<00:00,  1.41it/s]"
     ]
    },
    {
     "name": "stdout",
     "output_type": "stream",
     "text": [
      "Test accuracy: 3.731060606060606\n"
     ]
    },
    {
     "name": "stderr",
     "output_type": "stream",
     "text": [
      "\n"
     ]
    }
   ],
   "source": [
    "test_accuracies = []\n",
    "\n",
    "for (sample, target) in tqdm(test_loader):\n",
    "    one_hot_target = nn.functional.one_hot(target, num_classes = 211).type(torch.FloatTensor).to(device)\n",
    "\n",
    "    with torch.no_grad():\n",
    "        output = feature_extractor(sample.to(device))\n",
    "        output = classification_head(output[\"avgpool\"])\n",
    "\n",
    "    state = engine.run([[output, one_hot_target]])\n",
    "    accuracy = state.metrics['top_1_accuracy']*100\n",
    "    test_accuracies += [accuracy]\n",
    "\n",
    "print(\"Test accuracy: \" + str(np.mean(np.array(test_accuracies))))"
   ]
  },
  {
   "cell_type": "code",
   "execution_count": 8,
   "metadata": {},
   "outputs": [
    {
     "name": "stdout",
     "output_type": "stream",
     "text": [
      "Test accuracy: 3.731060606060606\n"
     ]
    }
   ],
   "source": [
    "print(\"Test accuracy: \" + str(np.mean(test_accuracies)))"
   ]
  }
 ],
 "metadata": {
  "kernelspec": {
   "display_name": "country211",
   "language": "python",
   "name": "python3"
  },
  "language_info": {
   "codemirror_mode": {
    "name": "ipython",
    "version": 3
   },
   "file_extension": ".py",
   "mimetype": "text/x-python",
   "name": "python",
   "nbconvert_exporter": "python",
   "pygments_lexer": "ipython3",
   "version": "3.11.3"
  },
  "orig_nbformat": 4
 },
 "nbformat": 4,
 "nbformat_minor": 2
}
